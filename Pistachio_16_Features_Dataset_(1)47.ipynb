{
  "nbformat": 4,
  "nbformat_minor": 0,
  "metadata": {
    "colab": {
      "provenance": []
    },
    "kernelspec": {
      "name": "python3",
      "display_name": "Python 3"
    },
    "language_info": {
      "name": "python"
    }
  },
  "cells": [
    {
      "cell_type": "code",
      "execution_count": null,
      "metadata": {
        "id": "RsS2rfabE5E9"
      },
      "outputs": [],
      "source": [
        "import pandas as pd\n",
        "df=pd.read_excel('/content/Pistachio_16_Features_Dataset (1).xlsx')"
      ]
    },
    {
      "cell_type": "code",
      "source": [
        "df.head()"
      ],
      "metadata": {
        "colab": {
          "base_uri": "https://localhost:8080/",
          "height": 226
        },
        "id": "HJXwNk-wFYU4",
        "outputId": "3c4f9fd9-991f-4470-92e4-16c85a2b1ce9"
      },
      "execution_count": null,
      "outputs": [
        {
          "output_type": "execute_result",
          "data": {
            "text/plain": [
              "    AREA  PERIMETER  MAJOR_AXIS  MINOR_AXIS  ECCENTRICITY   EQDIASQ  SOLIDITY  \\\n",
              "0  63391   1568.405    390.3396    236.7461        0.7951  284.0984    0.8665   \n",
              "1  68358   1942.187    410.8594    234.7525        0.8207  295.0188    0.8765   \n",
              "2  73589   1246.538    452.3630    220.5547        0.8731  306.0987    0.9172   \n",
              "3  71106   1445.261    429.5291    216.0765        0.8643  300.8903    0.9589   \n",
              "4  80087   1251.524    469.3783    220.9344        0.8823  319.3273    0.9657   \n",
              "\n",
              "   CONVEX_AREA  EXTENT  ASPECT_RATIO  ROUNDNESS  COMPACTNESS  SHAPEFACTOR_1  \\\n",
              "0        73160  0.6394        1.6488     0.3238       0.7278         0.0062   \n",
              "1        77991  0.6772        1.7502     0.2277       0.7181         0.0060   \n",
              "2        80234  0.7127        2.0510     0.5951       0.6767         0.0061   \n",
              "3        74153  0.7028        1.9879     0.4278       0.7005         0.0060   \n",
              "4        82929  0.7459        2.1245     0.6425       0.6803         0.0059   \n",
              "\n",
              "   SHAPEFACTOR_2  SHAPEFACTOR_3  SHAPEFACTOR_4              Class  \n",
              "0         0.0037         0.5297         0.8734  Kirmizi_Pistachio  \n",
              "1         0.0034         0.5156         0.9024  Kirmizi_Pistachio  \n",
              "2         0.0030         0.4579         0.9391  Kirmizi_Pistachio  \n",
              "3         0.0030         0.4907         0.9755  Kirmizi_Pistachio  \n",
              "4         0.0028         0.4628         0.9833  Kirmizi_Pistachio  "
            ],
            "text/html": [
              "\n",
              "  <div id=\"df-d56fecda-a621-4222-8f50-2525a23b41bc\" class=\"colab-df-container\">\n",
              "    <div>\n",
              "<style scoped>\n",
              "    .dataframe tbody tr th:only-of-type {\n",
              "        vertical-align: middle;\n",
              "    }\n",
              "\n",
              "    .dataframe tbody tr th {\n",
              "        vertical-align: top;\n",
              "    }\n",
              "\n",
              "    .dataframe thead th {\n",
              "        text-align: right;\n",
              "    }\n",
              "</style>\n",
              "<table border=\"1\" class=\"dataframe\">\n",
              "  <thead>\n",
              "    <tr style=\"text-align: right;\">\n",
              "      <th></th>\n",
              "      <th>AREA</th>\n",
              "      <th>PERIMETER</th>\n",
              "      <th>MAJOR_AXIS</th>\n",
              "      <th>MINOR_AXIS</th>\n",
              "      <th>ECCENTRICITY</th>\n",
              "      <th>EQDIASQ</th>\n",
              "      <th>SOLIDITY</th>\n",
              "      <th>CONVEX_AREA</th>\n",
              "      <th>EXTENT</th>\n",
              "      <th>ASPECT_RATIO</th>\n",
              "      <th>ROUNDNESS</th>\n",
              "      <th>COMPACTNESS</th>\n",
              "      <th>SHAPEFACTOR_1</th>\n",
              "      <th>SHAPEFACTOR_2</th>\n",
              "      <th>SHAPEFACTOR_3</th>\n",
              "      <th>SHAPEFACTOR_4</th>\n",
              "      <th>Class</th>\n",
              "    </tr>\n",
              "  </thead>\n",
              "  <tbody>\n",
              "    <tr>\n",
              "      <th>0</th>\n",
              "      <td>63391</td>\n",
              "      <td>1568.405</td>\n",
              "      <td>390.3396</td>\n",
              "      <td>236.7461</td>\n",
              "      <td>0.7951</td>\n",
              "      <td>284.0984</td>\n",
              "      <td>0.8665</td>\n",
              "      <td>73160</td>\n",
              "      <td>0.6394</td>\n",
              "      <td>1.6488</td>\n",
              "      <td>0.3238</td>\n",
              "      <td>0.7278</td>\n",
              "      <td>0.0062</td>\n",
              "      <td>0.0037</td>\n",
              "      <td>0.5297</td>\n",
              "      <td>0.8734</td>\n",
              "      <td>Kirmizi_Pistachio</td>\n",
              "    </tr>\n",
              "    <tr>\n",
              "      <th>1</th>\n",
              "      <td>68358</td>\n",
              "      <td>1942.187</td>\n",
              "      <td>410.8594</td>\n",
              "      <td>234.7525</td>\n",
              "      <td>0.8207</td>\n",
              "      <td>295.0188</td>\n",
              "      <td>0.8765</td>\n",
              "      <td>77991</td>\n",
              "      <td>0.6772</td>\n",
              "      <td>1.7502</td>\n",
              "      <td>0.2277</td>\n",
              "      <td>0.7181</td>\n",
              "      <td>0.0060</td>\n",
              "      <td>0.0034</td>\n",
              "      <td>0.5156</td>\n",
              "      <td>0.9024</td>\n",
              "      <td>Kirmizi_Pistachio</td>\n",
              "    </tr>\n",
              "    <tr>\n",
              "      <th>2</th>\n",
              "      <td>73589</td>\n",
              "      <td>1246.538</td>\n",
              "      <td>452.3630</td>\n",
              "      <td>220.5547</td>\n",
              "      <td>0.8731</td>\n",
              "      <td>306.0987</td>\n",
              "      <td>0.9172</td>\n",
              "      <td>80234</td>\n",
              "      <td>0.7127</td>\n",
              "      <td>2.0510</td>\n",
              "      <td>0.5951</td>\n",
              "      <td>0.6767</td>\n",
              "      <td>0.0061</td>\n",
              "      <td>0.0030</td>\n",
              "      <td>0.4579</td>\n",
              "      <td>0.9391</td>\n",
              "      <td>Kirmizi_Pistachio</td>\n",
              "    </tr>\n",
              "    <tr>\n",
              "      <th>3</th>\n",
              "      <td>71106</td>\n",
              "      <td>1445.261</td>\n",
              "      <td>429.5291</td>\n",
              "      <td>216.0765</td>\n",
              "      <td>0.8643</td>\n",
              "      <td>300.8903</td>\n",
              "      <td>0.9589</td>\n",
              "      <td>74153</td>\n",
              "      <td>0.7028</td>\n",
              "      <td>1.9879</td>\n",
              "      <td>0.4278</td>\n",
              "      <td>0.7005</td>\n",
              "      <td>0.0060</td>\n",
              "      <td>0.0030</td>\n",
              "      <td>0.4907</td>\n",
              "      <td>0.9755</td>\n",
              "      <td>Kirmizi_Pistachio</td>\n",
              "    </tr>\n",
              "    <tr>\n",
              "      <th>4</th>\n",
              "      <td>80087</td>\n",
              "      <td>1251.524</td>\n",
              "      <td>469.3783</td>\n",
              "      <td>220.9344</td>\n",
              "      <td>0.8823</td>\n",
              "      <td>319.3273</td>\n",
              "      <td>0.9657</td>\n",
              "      <td>82929</td>\n",
              "      <td>0.7459</td>\n",
              "      <td>2.1245</td>\n",
              "      <td>0.6425</td>\n",
              "      <td>0.6803</td>\n",
              "      <td>0.0059</td>\n",
              "      <td>0.0028</td>\n",
              "      <td>0.4628</td>\n",
              "      <td>0.9833</td>\n",
              "      <td>Kirmizi_Pistachio</td>\n",
              "    </tr>\n",
              "  </tbody>\n",
              "</table>\n",
              "</div>\n",
              "    <div class=\"colab-df-buttons\">\n",
              "\n",
              "  <div class=\"colab-df-container\">\n",
              "    <button class=\"colab-df-convert\" onclick=\"convertToInteractive('df-d56fecda-a621-4222-8f50-2525a23b41bc')\"\n",
              "            title=\"Convert this dataframe to an interactive table.\"\n",
              "            style=\"display:none;\">\n",
              "\n",
              "  <svg xmlns=\"http://www.w3.org/2000/svg\" height=\"24px\" viewBox=\"0 -960 960 960\">\n",
              "    <path d=\"M120-120v-720h720v720H120Zm60-500h600v-160H180v160Zm220 220h160v-160H400v160Zm0 220h160v-160H400v160ZM180-400h160v-160H180v160Zm440 0h160v-160H620v160ZM180-180h160v-160H180v160Zm440 0h160v-160H620v160Z\"/>\n",
              "  </svg>\n",
              "    </button>\n",
              "\n",
              "  <style>\n",
              "    .colab-df-container {\n",
              "      display:flex;\n",
              "      gap: 12px;\n",
              "    }\n",
              "\n",
              "    .colab-df-convert {\n",
              "      background-color: #E8F0FE;\n",
              "      border: none;\n",
              "      border-radius: 50%;\n",
              "      cursor: pointer;\n",
              "      display: none;\n",
              "      fill: #1967D2;\n",
              "      height: 32px;\n",
              "      padding: 0 0 0 0;\n",
              "      width: 32px;\n",
              "    }\n",
              "\n",
              "    .colab-df-convert:hover {\n",
              "      background-color: #E2EBFA;\n",
              "      box-shadow: 0px 1px 2px rgba(60, 64, 67, 0.3), 0px 1px 3px 1px rgba(60, 64, 67, 0.15);\n",
              "      fill: #174EA6;\n",
              "    }\n",
              "\n",
              "    .colab-df-buttons div {\n",
              "      margin-bottom: 4px;\n",
              "    }\n",
              "\n",
              "    [theme=dark] .colab-df-convert {\n",
              "      background-color: #3B4455;\n",
              "      fill: #D2E3FC;\n",
              "    }\n",
              "\n",
              "    [theme=dark] .colab-df-convert:hover {\n",
              "      background-color: #434B5C;\n",
              "      box-shadow: 0px 1px 3px 1px rgba(0, 0, 0, 0.15);\n",
              "      filter: drop-shadow(0px 1px 2px rgba(0, 0, 0, 0.3));\n",
              "      fill: #FFFFFF;\n",
              "    }\n",
              "  </style>\n",
              "\n",
              "    <script>\n",
              "      const buttonEl =\n",
              "        document.querySelector('#df-d56fecda-a621-4222-8f50-2525a23b41bc button.colab-df-convert');\n",
              "      buttonEl.style.display =\n",
              "        google.colab.kernel.accessAllowed ? 'block' : 'none';\n",
              "\n",
              "      async function convertToInteractive(key) {\n",
              "        const element = document.querySelector('#df-d56fecda-a621-4222-8f50-2525a23b41bc');\n",
              "        const dataTable =\n",
              "          await google.colab.kernel.invokeFunction('convertToInteractive',\n",
              "                                                    [key], {});\n",
              "        if (!dataTable) return;\n",
              "\n",
              "        const docLinkHtml = 'Like what you see? Visit the ' +\n",
              "          '<a target=\"_blank\" href=https://colab.research.google.com/notebooks/data_table.ipynb>data table notebook</a>'\n",
              "          + ' to learn more about interactive tables.';\n",
              "        element.innerHTML = '';\n",
              "        dataTable['output_type'] = 'display_data';\n",
              "        await google.colab.output.renderOutput(dataTable, element);\n",
              "        const docLink = document.createElement('div');\n",
              "        docLink.innerHTML = docLinkHtml;\n",
              "        element.appendChild(docLink);\n",
              "      }\n",
              "    </script>\n",
              "  </div>\n",
              "\n",
              "\n",
              "<div id=\"df-1eed2517-363d-4939-8b0e-6d1a8efc5036\">\n",
              "  <button class=\"colab-df-quickchart\" onclick=\"quickchart('df-1eed2517-363d-4939-8b0e-6d1a8efc5036')\"\n",
              "            title=\"Suggest charts\"\n",
              "            style=\"display:none;\">\n",
              "\n",
              "<svg xmlns=\"http://www.w3.org/2000/svg\" height=\"24px\"viewBox=\"0 0 24 24\"\n",
              "     width=\"24px\">\n",
              "    <g>\n",
              "        <path d=\"M19 3H5c-1.1 0-2 .9-2 2v14c0 1.1.9 2 2 2h14c1.1 0 2-.9 2-2V5c0-1.1-.9-2-2-2zM9 17H7v-7h2v7zm4 0h-2V7h2v10zm4 0h-2v-4h2v4z\"/>\n",
              "    </g>\n",
              "</svg>\n",
              "  </button>\n",
              "\n",
              "<style>\n",
              "  .colab-df-quickchart {\n",
              "      --bg-color: #E8F0FE;\n",
              "      --fill-color: #1967D2;\n",
              "      --hover-bg-color: #E2EBFA;\n",
              "      --hover-fill-color: #174EA6;\n",
              "      --disabled-fill-color: #AAA;\n",
              "      --disabled-bg-color: #DDD;\n",
              "  }\n",
              "\n",
              "  [theme=dark] .colab-df-quickchart {\n",
              "      --bg-color: #3B4455;\n",
              "      --fill-color: #D2E3FC;\n",
              "      --hover-bg-color: #434B5C;\n",
              "      --hover-fill-color: #FFFFFF;\n",
              "      --disabled-bg-color: #3B4455;\n",
              "      --disabled-fill-color: #666;\n",
              "  }\n",
              "\n",
              "  .colab-df-quickchart {\n",
              "    background-color: var(--bg-color);\n",
              "    border: none;\n",
              "    border-radius: 50%;\n",
              "    cursor: pointer;\n",
              "    display: none;\n",
              "    fill: var(--fill-color);\n",
              "    height: 32px;\n",
              "    padding: 0;\n",
              "    width: 32px;\n",
              "  }\n",
              "\n",
              "  .colab-df-quickchart:hover {\n",
              "    background-color: var(--hover-bg-color);\n",
              "    box-shadow: 0 1px 2px rgba(60, 64, 67, 0.3), 0 1px 3px 1px rgba(60, 64, 67, 0.15);\n",
              "    fill: var(--button-hover-fill-color);\n",
              "  }\n",
              "\n",
              "  .colab-df-quickchart-complete:disabled,\n",
              "  .colab-df-quickchart-complete:disabled:hover {\n",
              "    background-color: var(--disabled-bg-color);\n",
              "    fill: var(--disabled-fill-color);\n",
              "    box-shadow: none;\n",
              "  }\n",
              "\n",
              "  .colab-df-spinner {\n",
              "    border: 2px solid var(--fill-color);\n",
              "    border-color: transparent;\n",
              "    border-bottom-color: var(--fill-color);\n",
              "    animation:\n",
              "      spin 1s steps(1) infinite;\n",
              "  }\n",
              "\n",
              "  @keyframes spin {\n",
              "    0% {\n",
              "      border-color: transparent;\n",
              "      border-bottom-color: var(--fill-color);\n",
              "      border-left-color: var(--fill-color);\n",
              "    }\n",
              "    20% {\n",
              "      border-color: transparent;\n",
              "      border-left-color: var(--fill-color);\n",
              "      border-top-color: var(--fill-color);\n",
              "    }\n",
              "    30% {\n",
              "      border-color: transparent;\n",
              "      border-left-color: var(--fill-color);\n",
              "      border-top-color: var(--fill-color);\n",
              "      border-right-color: var(--fill-color);\n",
              "    }\n",
              "    40% {\n",
              "      border-color: transparent;\n",
              "      border-right-color: var(--fill-color);\n",
              "      border-top-color: var(--fill-color);\n",
              "    }\n",
              "    60% {\n",
              "      border-color: transparent;\n",
              "      border-right-color: var(--fill-color);\n",
              "    }\n",
              "    80% {\n",
              "      border-color: transparent;\n",
              "      border-right-color: var(--fill-color);\n",
              "      border-bottom-color: var(--fill-color);\n",
              "    }\n",
              "    90% {\n",
              "      border-color: transparent;\n",
              "      border-bottom-color: var(--fill-color);\n",
              "    }\n",
              "  }\n",
              "</style>\n",
              "\n",
              "  <script>\n",
              "    async function quickchart(key) {\n",
              "      const quickchartButtonEl =\n",
              "        document.querySelector('#' + key + ' button');\n",
              "      quickchartButtonEl.disabled = true;  // To prevent multiple clicks.\n",
              "      quickchartButtonEl.classList.add('colab-df-spinner');\n",
              "      try {\n",
              "        const charts = await google.colab.kernel.invokeFunction(\n",
              "            'suggestCharts', [key], {});\n",
              "      } catch (error) {\n",
              "        console.error('Error during call to suggestCharts:', error);\n",
              "      }\n",
              "      quickchartButtonEl.classList.remove('colab-df-spinner');\n",
              "      quickchartButtonEl.classList.add('colab-df-quickchart-complete');\n",
              "    }\n",
              "    (() => {\n",
              "      let quickchartButtonEl =\n",
              "        document.querySelector('#df-1eed2517-363d-4939-8b0e-6d1a8efc5036 button');\n",
              "      quickchartButtonEl.style.display =\n",
              "        google.colab.kernel.accessAllowed ? 'block' : 'none';\n",
              "    })();\n",
              "  </script>\n",
              "</div>\n",
              "\n",
              "    </div>\n",
              "  </div>\n"
            ],
            "application/vnd.google.colaboratory.intrinsic+json": {
              "type": "dataframe",
              "variable_name": "df",
              "summary": "{\n  \"name\": \"df\",\n  \"rows\": 2148,\n  \"fields\": [\n    {\n      \"column\": \"AREA\",\n      \"properties\": {\n        \"dtype\": \"number\",\n        \"std\": 13121,\n        \"min\": 29808,\n        \"max\": 124008,\n        \"num_unique_values\": 2101,\n        \"samples\": [\n          97590,\n          103994,\n          72913\n        ],\n        \"semantic_type\": \"\",\n        \"description\": \"\"\n      }\n    },\n    {\n      \"column\": \"PERIMETER\",\n      \"properties\": {\n        \"dtype\": \"number\",\n        \"std\": 375.56550345439894,\n        \"min\": 858.363,\n        \"max\": 2755.0491,\n        \"num_unique_values\": 2144,\n        \"samples\": [\n          2138.689,\n          1129.559,\n          1180.433\n        ],\n        \"semantic_type\": \"\",\n        \"description\": \"\"\n      }\n    },\n    {\n      \"column\": \"MAJOR_AXIS\",\n      \"properties\": {\n        \"dtype\": \"number\",\n        \"std\": 32.445303508178796,\n        \"min\": 320.3445,\n        \"max\": 541.9661,\n        \"num_unique_values\": 2143,\n        \"samples\": [\n          458.5762,\n          336.944,\n          509.9047\n        ],\n        \"semantic_type\": \"\",\n        \"description\": \"\"\n      }\n    },\n    {\n      \"column\": \"MINOR_AXIS\",\n      \"properties\": {\n        \"dtype\": \"number\",\n        \"std\": 30.310695396739984,\n        \"min\": 133.5096,\n        \"max\": 383.0461,\n        \"num_unique_values\": 2147,\n        \"samples\": [\n          261.1837,\n          335.8377,\n          231.4328\n        ],\n        \"semantic_type\": \"\",\n        \"description\": \"\"\n      }\n    },\n    {\n      \"column\": \"ECCENTRICITY\",\n      \"properties\": {\n        \"dtype\": \"number\",\n        \"std\": 0.048758957264750165,\n        \"min\": 0.5049,\n        \"max\": 0.946,\n        \"num_unique_values\": 1172,\n        \"samples\": [\n          0.855,\n          0.8627,\n          0.8585\n        ],\n        \"semantic_type\": \"\",\n        \"description\": \"\"\n      }\n    },\n    {\n      \"column\": \"EQDIASQ\",\n      \"properties\": {\n        \"dtype\": \"number\",\n        \"std\": 26.90860002379475,\n        \"min\": 194.8146,\n        \"max\": 397.3561,\n        \"num_unique_values\": 2101,\n        \"samples\": [\n          352.4989,\n          363.8809,\n          304.6895\n        ],\n        \"semantic_type\": \"\",\n        \"description\": \"\"\n      }\n    },\n    {\n      \"column\": \"SOLIDITY\",\n      \"properties\": {\n        \"dtype\": \"number\",\n        \"std\": 0.05045218484942025,\n        \"min\": 0.588,\n        \"max\": 0.9951,\n        \"num_unique_values\": 1070,\n        \"samples\": [\n          0.89,\n          0.9139,\n          0.9895\n        ],\n        \"semantic_type\": \"\",\n        \"description\": \"\"\n      }\n    },\n    {\n      \"column\": \"CONVEX_AREA\",\n      \"properties\": {\n        \"dtype\": \"number\",\n        \"std\": 13154,\n        \"min\": 37935,\n        \"max\": 132478,\n        \"num_unique_values\": 2102,\n        \"samples\": [\n          87669,\n          94682,\n          76523\n        ],\n        \"semantic_type\": \"\",\n        \"description\": \"\"\n      }\n    },\n    {\n      \"column\": \"EXTENT\",\n      \"properties\": {\n        \"dtype\": \"number\",\n        \"std\": 0.05253229423461956,\n        \"min\": 0.4272,\n        \"max\": 0.8204,\n        \"num_unique_values\": 1222,\n        \"samples\": [\n          0.7662,\n          0.6922,\n          0.7454\n        ],\n        \"semantic_type\": \"\",\n        \"description\": \"\"\n      }\n    },\n    {\n      \"column\": \"ASPECT_RATIO\",\n      \"properties\": {\n        \"dtype\": \"number\",\n        \"std\": 0.24010025581296487,\n        \"min\": 1.1585,\n        \"max\": 3.0858,\n        \"num_unique_values\": 1922,\n        \"samples\": [\n          1.6521,\n          1.9963,\n          2.0112\n        ],\n        \"semantic_type\": \"\",\n        \"description\": \"\"\n      }\n    },\n    {\n      \"column\": \"ROUNDNESS\",\n      \"properties\": {\n        \"dtype\": \"number\",\n        \"std\": 0.21275974294227137,\n        \"min\": 0.0628,\n        \"max\": 0.9336,\n        \"num_unique_values\": 1789,\n        \"samples\": [\n          0.1827,\n          0.2723,\n          0.3997\n        ],\n        \"semantic_type\": \"\",\n        \"description\": \"\"\n      }\n    },\n    {\n      \"column\": \"COMPACTNESS\",\n      \"properties\": {\n        \"dtype\": \"number\",\n        \"std\": 0.04454714349125852,\n        \"min\": 0.476,\n        \"max\": 0.8779,\n        \"num_unique_values\": 1187,\n        \"samples\": [\n          0.6927,\n          0.7713,\n          0.7134\n        ],\n        \"semantic_type\": \"\",\n        \"description\": \"\"\n      }\n    },\n    {\n      \"column\": \"SHAPEFACTOR_1\",\n      \"properties\": {\n        \"dtype\": \"number\",\n        \"std\": 0.000817253003312335,\n        \"min\": 0.004,\n        \"max\": 0.0131,\n        \"num_unique_values\": 58,\n        \"samples\": [\n          0.0062,\n          0.0054,\n          0.0096\n        ],\n        \"semantic_type\": \"\",\n        \"description\": \"\"\n      }\n    },\n    {\n      \"column\": \"SHAPEFACTOR_2\",\n      \"properties\": {\n        \"dtype\": \"number\",\n        \"std\": 0.00033976902710538436,\n        \"min\": 0.0024,\n        \"max\": 0.0053,\n        \"num_unique_values\": 28,\n        \"samples\": [\n          0.0029,\n          0.0045,\n          0.0032\n        ],\n        \"semantic_type\": \"\",\n        \"description\": \"\"\n      }\n    },\n    {\n      \"column\": \"SHAPEFACTOR_3\",\n      \"properties\": {\n        \"dtype\": \"number\",\n        \"std\": 0.06394198264088032,\n        \"min\": 0.2266,\n        \"max\": 0.7706,\n        \"num_unique_values\": 1379,\n        \"samples\": [\n          0.4441,\n          0.5227,\n          0.505\n        ],\n        \"semantic_type\": \"\",\n        \"description\": \"\"\n      }\n    },\n    {\n      \"column\": \"SHAPEFACTOR_4\",\n      \"properties\": {\n        \"dtype\": \"number\",\n        \"std\": 0.051840480731986036,\n        \"min\": 0.6204,\n        \"max\": 0.999,\n        \"num_unique_values\": 928,\n        \"samples\": [\n          0.9809,\n          0.9875,\n          0.9805\n        ],\n        \"semantic_type\": \"\",\n        \"description\": \"\"\n      }\n    },\n    {\n      \"column\": \"Class\",\n      \"properties\": {\n        \"dtype\": \"category\",\n        \"num_unique_values\": 2,\n        \"samples\": [\n          \"Siit_Pistachio\",\n          \"Kirmizi_Pistachio\"\n        ],\n        \"semantic_type\": \"\",\n        \"description\": \"\"\n      }\n    }\n  ]\n}"
            }
          },
          "metadata": {},
          "execution_count": 292
        }
      ]
    },
    {
      "cell_type": "code",
      "source": [
        "df=df.drop_duplicates()"
      ],
      "metadata": {
        "id": "m6uphBsxFgPP"
      },
      "execution_count": null,
      "outputs": []
    },
    {
      "cell_type": "code",
      "source": [
        "df.info()"
      ],
      "metadata": {
        "colab": {
          "base_uri": "https://localhost:8080/"
        },
        "id": "X440HgfCF2Gz",
        "outputId": "ee12fac6-3a26-41e5-8aa1-f3ccd0132349"
      },
      "execution_count": null,
      "outputs": [
        {
          "output_type": "stream",
          "name": "stdout",
          "text": [
            "<class 'pandas.core.frame.DataFrame'>\n",
            "RangeIndex: 2148 entries, 0 to 2147\n",
            "Data columns (total 17 columns):\n",
            " #   Column         Non-Null Count  Dtype  \n",
            "---  ------         --------------  -----  \n",
            " 0   AREA           2148 non-null   int64  \n",
            " 1   PERIMETER      2148 non-null   float64\n",
            " 2   MAJOR_AXIS     2148 non-null   float64\n",
            " 3   MINOR_AXIS     2148 non-null   float64\n",
            " 4   ECCENTRICITY   2148 non-null   float64\n",
            " 5   EQDIASQ        2148 non-null   float64\n",
            " 6   SOLIDITY       2148 non-null   float64\n",
            " 7   CONVEX_AREA    2148 non-null   int64  \n",
            " 8   EXTENT         2148 non-null   float64\n",
            " 9   ASPECT_RATIO   2148 non-null   float64\n",
            " 10  ROUNDNESS      2148 non-null   float64\n",
            " 11  COMPACTNESS    2148 non-null   float64\n",
            " 12  SHAPEFACTOR_1  2148 non-null   float64\n",
            " 13  SHAPEFACTOR_2  2148 non-null   float64\n",
            " 14  SHAPEFACTOR_3  2148 non-null   float64\n",
            " 15  SHAPEFACTOR_4  2148 non-null   float64\n",
            " 16  Class          2148 non-null   object \n",
            "dtypes: float64(14), int64(2), object(1)\n",
            "memory usage: 285.4+ KB\n"
          ]
        }
      ]
    },
    {
      "cell_type": "code",
      "source": [
        "df.boxplot()\n",
        "plt.figure(figsize=(50, 10))"
      ],
      "metadata": {
        "colab": {
          "base_uri": "https://localhost:8080/",
          "height": 466
        },
        "id": "ceB61Sr0F4_c",
        "outputId": "406cb8c9-1364-45d9-b774-d30bf187aed4"
      },
      "execution_count": null,
      "outputs": [
        {
          "output_type": "execute_result",
          "data": {
            "text/plain": [
              "<Figure size 5000x1000 with 0 Axes>"
            ]
          },
          "metadata": {},
          "execution_count": 295
        },
        {
          "output_type": "display_data",
          "data": {
            "text/plain": [
              "<Figure size 640x480 with 1 Axes>"
            ],
            "image/png": "[encoded data removed]"
          },
          "metadata": {}
        },
        {
          "output_type": "display_data",
          "data": {
            "text/plain": [
              "<Figure size 5000x1000 with 0 Axes>"
            ]
          },
          "metadata": {}
        }
      ]
    },
    {
      "cell_type": "code",
      "source": [
        "import matplotlib.pyplot as plt\n",
        "import seaborn as sns\n",
        "\n",
        "# رسم Box Plot لجميع الأعمدة في البيانات\n",
        "plt.figure(figsize=(20, 6))\n",
        "sns.boxplot(data=df)  # تأكد من استخدام اسم DataFrame الصحيح هنا (df)\n",
        "plt.title('Box Plot for Each Column')\n",
        "plt.show()\n"
      ],
      "metadata": {
        "colab": {
          "base_uri": "https://localhost:8080/",
          "height": 469
        },
        "id": "iT7Y0eTPF9WV",
        "outputId": "9aea1af5-d662-4c66-cfc2-e6dd0b763137"
      },
      "execution_count": null,
      "outputs": [
        {
          "output_type": "display_data",
          "data": {
            "text/plain": [
              "<Figure size 2000x600 with 1 Axes>"
            ],
            "image/png": "[encoded data removed]"
          },
          "metadata": {}
        }
      ]
    },
    {
      "cell_type": "code",
      "source": [
        "import numpy as np"
      ],
      "metadata": {
        "id": "cVZj7umOGXK6"
      },
      "execution_count": null,
      "outputs": []
    },
    {
      "cell_type": "code",
      "source": [
        "print(df.columns)"
      ],
      "metadata": {
        "colab": {
          "base_uri": "https://localhost:8080/"
        },
        "id": "0JzXHMlJGkHF",
        "outputId": "623c10e2-847d-418b-8e8a-ce253a5e7ba2"
      },
      "execution_count": null,
      "outputs": [
        {
          "output_type": "stream",
          "name": "stdout",
          "text": [
            "Index(['AREA', 'PERIMETER', 'MAJOR_AXIS', 'MINOR_AXIS', 'ECCENTRICITY',\n",
            "       'EQDIASQ', 'SOLIDITY', 'CONVEX_AREA', 'EXTENT', 'ASPECT_RATIO',\n",
            "       'ROUNDNESS', 'COMPACTNESS', 'SHAPEFACTOR_1', 'SHAPEFACTOR_2',\n",
            "       'SHAPEFACTOR_3', 'SHAPEFACTOR_4', 'Class'],\n",
            "      dtype='object')\n"
          ]
        }
      ]
    },
    {
      "cell_type": "code",
      "source": [
        "df['AREA']=np.log1p(df['AREA'])"
      ],
      "metadata": {
        "id": "Sv-O8napGMI-"
      },
      "execution_count": null,
      "outputs": []
    },
    {
      "cell_type": "code",
      "source": [
        "df['CONVEX_AREA']=np.log1p(df['CONVEX_AREA'])"
      ],
      "metadata": {
        "id": "mg5dvL1UGv6n"
      },
      "execution_count": null,
      "outputs": []
    },
    {
      "cell_type": "code",
      "source": [
        "'''Q1=df['AREA'].quantile(0.25)\n",
        "Q3=df['AREA'].quantile(0.75)\n",
        "IQR=Q3-Q1\n",
        "lower=Q1-1.5*IQR\n",
        "upper=Q3+1.5*IQR\n",
        "df=df[(df['AREA']>=lower)&(df['AREA']<=upper)]'''\n"
      ],
      "metadata": {
        "colab": {
          "base_uri": "https://localhost:8080/",
          "height": 36
        },
        "id": "oMWLVNI2HhQm",
        "outputId": "d50b8351-edb1-4cea-ef0a-356cc3e00416"
      },
      "execution_count": null,
      "outputs": [
        {
          "output_type": "execute_result",
          "data": {
            "text/plain": [
              "\"Q1=df['AREA'].quantile(0.25)\\nQ3=df['AREA'].quantile(0.75)\\nIQR=Q3-Q1\\nlower=Q1-1.5*IQR\\nupper=Q3+1.5*IQR\\ndf=df[(df['AREA']>=lower)&(df['AREA']<=upper)]\""
            ],
            "application/vnd.google.colaboratory.intrinsic+json": {
              "type": "string"
            }
          },
          "metadata": {},
          "execution_count": 301
        }
      ]
    },
    {
      "cell_type": "code",
      "source": [
        "'''Q1=df[ 'CONVEX_AREA'].quantile(0.25)\n",
        "Q3=df[ 'CONVEX_AREA'].quantile(0.75)\n",
        "IQR=Q3-Q1\n",
        "lower=Q1-1.5*IQR\n",
        "upper=Q3+1.5*IQR\n",
        "df=df[(df[ 'CONVEX_AREA']>=lower)&(df['CONVEX_AREA']<=upper)]'''"
      ],
      "metadata": {
        "colab": {
          "base_uri": "https://localhost:8080/",
          "height": 54
        },
        "id": "GN_EYOEoIe2C",
        "outputId": "715bca59-2d9e-4566-da62-a5a91cde59cb"
      },
      "execution_count": null,
      "outputs": [
        {
          "output_type": "execute_result",
          "data": {
            "text/plain": [
              "\"Q1=df[ 'CONVEX_AREA'].quantile(0.25)\\nQ3=df[ 'CONVEX_AREA'].quantile(0.75)\\nIQR=Q3-Q1\\nlower=Q1-1.5*IQR\\nupper=Q3+1.5*IQR\\ndf=df[(df[ 'CONVEX_AREA']>=lower)&(df['CONVEX_AREA']<=upper)]\""
            ],
            "application/vnd.google.colaboratory.intrinsic+json": {
              "type": "string"
            }
          },
          "metadata": {},
          "execution_count": 302
        }
      ]
    },
    {
      "cell_type": "code",
      "source": [
        "import matplotlib.pyplot as plt\n",
        "import seaborn as sns\n",
        "\n",
        "# رسم Box Plot لجميع الأعمدة في البيانات\n",
        "plt.figure(figsize=(20, 6))\n",
        "sns.boxplot(data=df)  # تأكد من استخدام اسم DataFrame الصحيح هنا (df)\n",
        "plt.title('Box Plot for Each Column')\n",
        "plt.show()\n"
      ],
      "metadata": {
        "colab": {
          "base_uri": "https://localhost:8080/",
          "height": 474
        },
        "id": "6NWRtGuuG9DK",
        "outputId": "3633b449-5405-40ae-ff33-04df69a4af20"
      },
      "execution_count": null,
      "outputs": [
        {
          "output_type": "display_data",
          "data": {
            "text/plain": [
              "<Figure size 2000x600 with 1 Axes>"
            ],
            "image/png": "[encoded data removed]"
          },
          "metadata": {}
        }
      ]
    },
    {
      "cell_type": "code",
      "source": [
        "df=pd.get_dummies(df,columns=[ 'Class'],drop_first=True).replace({True:1,False:0})"
      ],
      "metadata": {
        "colab": {
          "base_uri": "https://localhost:8080/"
        },
        "id": "sfeSL25FG_SS",
        "outputId": "e16f743e-902b-4ee8-c1c5-b53e1eb3a9d0"
      },
      "execution_count": null,
      "outputs": [
        {
          "output_type": "stream",
          "name": "stderr",
          "text": [
            "<ipython-input-304-27a7af0549ae>:1: FutureWarning: Downcasting behavior in `replace` is deprecated and will be removed in a future version. To retain the old behavior, explicitly call `result.infer_objects(copy=False)`. To opt-in to the future behavior, set `pd.set_option('future.no_silent_downcasting', True)`\n",
            "  df=pd.get_dummies(df,columns=[ 'Class'],drop_first=True).replace({True:1,False:0})\n"
          ]
        }
      ]
    },
    {
      "cell_type": "code",
      "source": [
        "df.head()"
      ],
      "metadata": {
        "colab": {
          "base_uri": "https://localhost:8080/",
          "height": 226
        },
        "id": "aAogzADfJu0l",
        "outputId": "77f38ed9-16b9-4cb1-c753-fdb390c2c006"
      },
      "execution_count": null,
      "outputs": [
        {
          "output_type": "execute_result",
          "data": {
            "text/plain": [
              "        AREA  PERIMETER  MAJOR_AXIS  MINOR_AXIS  ECCENTRICITY   EQDIASQ  \\\n",
              "0  11.057093   1568.405    390.3396    236.7461        0.7951  284.0984   \n",
              "1  11.132529   1942.187    410.8594    234.7525        0.8207  295.0188   \n",
              "2  11.206264   1246.538    452.3630    220.5547        0.8731  306.0987   \n",
              "3  11.171941   1445.261    429.5291    216.0765        0.8643  300.8903   \n",
              "4  11.290881   1251.524    469.3783    220.9344        0.8823  319.3273   \n",
              "\n",
              "   SOLIDITY  CONVEX_AREA  EXTENT  ASPECT_RATIO  ROUNDNESS  COMPACTNESS  \\\n",
              "0    0.8665    11.200418  0.6394        1.6488     0.3238       0.7278   \n",
              "1    0.8765    11.264362  0.6772        1.7502     0.2277       0.7181   \n",
              "2    0.9172    11.292715  0.7127        2.0510     0.5951       0.6767   \n",
              "3    0.9589    11.213899  0.7028        1.9879     0.4278       0.7005   \n",
              "4    0.9657    11.325752  0.7459        2.1245     0.6425       0.6803   \n",
              "\n",
              "   SHAPEFACTOR_1  SHAPEFACTOR_2  SHAPEFACTOR_3  SHAPEFACTOR_4  \\\n",
              "0         0.0062         0.0037         0.5297         0.8734   \n",
              "1         0.0060         0.0034         0.5156         0.9024   \n",
              "2         0.0061         0.0030         0.4579         0.9391   \n",
              "3         0.0060         0.0030         0.4907         0.9755   \n",
              "4         0.0059         0.0028         0.4628         0.9833   \n",
              "\n",
              "   Class_Siit_Pistachio  \n",
              "0                     0  \n",
              "1                     0  \n",
              "2                     0  \n",
              "3                     0  \n",
              "4                     0  "
            ],
            "text/html": [
              "\n",
              "  <div id=\"df-f0226aa5-9c83-4430-b40e-a336c0815c29\" class=\"colab-df-container\">\n",
              "    <div>\n",
              "<style scoped>\n",
              "    .dataframe tbody tr th:only-of-type {\n",
              "        vertical-align: middle;\n",
              "    }\n",
              "\n",
              "    .dataframe tbody tr th {\n",
              "        vertical-align: top;\n",
              "    }\n",
              "\n",
              "    .dataframe thead th {\n",
              "        text-align: right;\n",
              "    }\n",
              "</style>\n",
              "<table border=\"1\" class=\"dataframe\">\n",
              "  <thead>\n",
              "    <tr style=\"text-align: right;\">\n",
              "      <th></th>\n",
              "      <th>AREA</th>\n",
              "      <th>PERIMETER</th>\n",
              "      <th>MAJOR_AXIS</th>\n",
              "      <th>MINOR_AXIS</th>\n",
              "      <th>ECCENTRICITY</th>\n",
              "      <th>EQDIASQ</th>\n",
              "      <th>SOLIDITY</th>\n",
              "      <th>CONVEX_AREA</th>\n",
              "      <th>EXTENT</th>\n",
              "      <th>ASPECT_RATIO</th>\n",
              "      <th>ROUNDNESS</th>\n",
              "      <th>COMPACTNESS</th>\n",
              "      <th>SHAPEFACTOR_1</th>\n",
              "      <th>SHAPEFACTOR_2</th>\n",
              "      <th>SHAPEFACTOR_3</th>\n",
              "      <th>SHAPEFACTOR_4</th>\n",
              "      <th>Class_Siit_Pistachio</th>\n",
              "    </tr>\n",
              "  </thead>\n",
              "  <tbody>\n",
              "    <tr>\n",
              "      <th>0</th>\n",
              "      <td>11.057093</td>\n",
              "      <td>1568.405</td>\n",
              "      <td>390.3396</td>\n",
              "      <td>236.7461</td>\n",
              "      <td>0.7951</td>\n",
              "      <td>284.0984</td>\n",
              "      <td>0.8665</td>\n",
              "      <td>11.200418</td>\n",
              "      <td>0.6394</td>\n",
              "      <td>1.6488</td>\n",
              "      <td>0.3238</td>\n",
              "      <td>0.7278</td>\n",
              "      <td>0.0062</td>\n",
              "      <td>0.0037</td>\n",
              "      <td>0.5297</td>\n",
              "      <td>0.8734</td>\n",
              "      <td>0</td>\n",
              "    </tr>\n",
              "    <tr>\n",
              "      <th>1</th>\n",
              "      <td>11.132529</td>\n",
              "      <td>1942.187</td>\n",
              "      <td>410.8594</td>\n",
              "      <td>234.7525</td>\n",
              "      <td>0.8207</td>\n",
              "      <td>295.0188</td>\n",
              "      <td>0.8765</td>\n",
              "      <td>11.264362</td>\n",
              "      <td>0.6772</td>\n",
              "      <td>1.7502</td>\n",
              "      <td>0.2277</td>\n",
              "      <td>0.7181</td>\n",
              "      <td>0.0060</td>\n",
              "      <td>0.0034</td>\n",
              "      <td>0.5156</td>\n",
              "      <td>0.9024</td>\n",
              "      <td>0</td>\n",
              "    </tr>\n",
              "    <tr>\n",
              "      <th>2</th>\n",
              "      <td>11.206264</td>\n",
              "      <td>1246.538</td>\n",
              "      <td>452.3630</td>\n",
              "      <td>220.5547</td>\n",
              "      <td>0.8731</td>\n",
              "      <td>306.0987</td>\n",
              "      <td>0.9172</td>\n",
              "      <td>11.292715</td>\n",
              "      <td>0.7127</td>\n",
              "      <td>2.0510</td>\n",
              "      <td>0.5951</td>\n",
              "      <td>0.6767</td>\n",
              "      <td>0.0061</td>\n",
              "      <td>0.0030</td>\n",
              "      <td>0.4579</td>\n",
              "      <td>0.9391</td>\n",
              "      <td>0</td>\n",
              "    </tr>\n",
              "    <tr>\n",
              "      <th>3</th>\n",
              "      <td>11.171941</td>\n",
              "      <td>1445.261</td>\n",
              "      <td>429.5291</td>\n",
              "      <td>216.0765</td>\n",
              "      <td>0.8643</td>\n",
              "      <td>300.8903</td>\n",
              "      <td>0.9589</td>\n",
              "      <td>11.213899</td>\n",
              "      <td>0.7028</td>\n",
              "      <td>1.9879</td>\n",
              "      <td>0.4278</td>\n",
              "      <td>0.7005</td>\n",
              "      <td>0.0060</td>\n",
              "      <td>0.0030</td>\n",
              "      <td>0.4907</td>\n",
              "      <td>0.9755</td>\n",
              "      <td>0</td>\n",
              "    </tr>\n",
              "    <tr>\n",
              "      <th>4</th>\n",
              "      <td>11.290881</td>\n",
              "      <td>1251.524</td>\n",
              "      <td>469.3783</td>\n",
              "      <td>220.9344</td>\n",
              "      <td>0.8823</td>\n",
              "      <td>319.3273</td>\n",
              "      <td>0.9657</td>\n",
              "      <td>11.325752</td>\n",
              "      <td>0.7459</td>\n",
              "      <td>2.1245</td>\n",
              "      <td>0.6425</td>\n",
              "      <td>0.6803</td>\n",
              "      <td>0.0059</td>\n",
              "      <td>0.0028</td>\n",
              "      <td>0.4628</td>\n",
              "      <td>0.9833</td>\n",
              "      <td>0</td>\n",
              "    </tr>\n",
              "  </tbody>\n",
              "</table>\n",
              "</div>\n",
              "    <div class=\"colab-df-buttons\">\n",
              "\n",
              "  <div class=\"colab-df-container\">\n",
              "    <button class=\"colab-df-convert\" onclick=\"convertToInteractive('df-f0226aa5-9c83-4430-b40e-a336c0815c29')\"\n",
              "            title=\"Convert this dataframe to an interactive table.\"\n",
              "            style=\"display:none;\">\n",
              "\n",
              "  <svg xmlns=\"http://www.w3.org/2000/svg\" height=\"24px\" viewBox=\"0 -960 960 960\">\n",
              "    <path d=\"M120-120v-720h720v720H120Zm60-500h600v-160H180v160Zm220 220h160v-160H400v160Zm0 220h160v-160H400v160ZM180-400h160v-160H180v160Zm440 0h160v-160H620v160ZM180-180h160v-160H180v160Zm440 0h160v-160H620v160Z\"/>\n",
              "  </svg>\n",
              "    </button>\n",
              "\n",
              "  <style>\n",
              "    .colab-df-container {\n",
              "      display:flex;\n",
              "      gap: 12px;\n",
              "    }\n",
              "\n",
              "    .colab-df-convert {\n",
              "      background-color: #E8F0FE;\n",
              "      border: none;\n",
              "      border-radius: 50%;\n",
              "      cursor: pointer;\n",
              "      display: none;\n",
              "      fill: #1967D2;\n",
              "      height: 32px;\n",
              "      padding: 0 0 0 0;\n",
              "      width: 32px;\n",
              "    }\n",
              "\n",
              "    .colab-df-convert:hover {\n",
              "      background-color: #E2EBFA;\n",
              "      box-shadow: 0px 1px 2px rgba(60, 64, 67, 0.3), 0px 1px 3px 1px rgba(60, 64, 67, 0.15);\n",
              "      fill: #174EA6;\n",
              "    }\n",
              "\n",
              "    .colab-df-buttons div {\n",
              "      margin-bottom: 4px;\n",
              "    }\n",
              "\n",
              "    [theme=dark] .colab-df-convert {\n",
              "      background-color: #3B4455;\n",
              "      fill: #D2E3FC;\n",
              "    }\n",
              "\n",
              "    [theme=dark] .colab-df-convert:hover {\n",
              "      background-color: #434B5C;\n",
              "      box-shadow: 0px 1px 3px 1px rgba(0, 0, 0, 0.15);\n",
              "      filter: drop-shadow(0px 1px 2px rgba(0, 0, 0, 0.3));\n",
              "      fill: #FFFFFF;\n",
              "    }\n",
              "  </style>\n",
              "\n",
              "    <script>\n",
              "      const buttonEl =\n",
              "        document.querySelector('#df-f0226aa5-9c83-4430-b40e-a336c0815c29 button.colab-df-convert');\n",
              "      buttonEl.style.display =\n",
              "        google.colab.kernel.accessAllowed ? 'block' : 'none';\n",
              "\n",
              "      async function convertToInteractive(key) {\n",
              "        const element = document.querySelector('#df-f0226aa5-9c83-4430-b40e-a336c0815c29');\n",
              "        const dataTable =\n",
              "          await google.colab.kernel.invokeFunction('convertToInteractive',\n",
              "                                                    [key], {});\n",
              "        if (!dataTable) return;\n",
              "\n",
              "        const docLinkHtml = 'Like what you see? Visit the ' +\n",
              "          '<a target=\"_blank\" href=https://colab.research.google.com/notebooks/data_table.ipynb>data table notebook</a>'\n",
              "          + ' to learn more about interactive tables.';\n",
              "        element.innerHTML = '';\n",
              "        dataTable['output_type'] = 'display_data';\n",
              "        await google.colab.output.renderOutput(dataTable, element);\n",
              "        const docLink = document.createElement('div');\n",
              "        docLink.innerHTML = docLinkHtml;\n",
              "        element.appendChild(docLink);\n",
              "      }\n",
              "    </script>\n",
              "  </div>\n",
              "\n",
              "\n",
              "<div id=\"df-c2033ddf-06db-42e8-999b-34d57d002211\">\n",
              "  <button class=\"colab-df-quickchart\" onclick=\"quickchart('df-c2033ddf-06db-42e8-999b-34d57d002211')\"\n",
              "            title=\"Suggest charts\"\n",
              "            style=\"display:none;\">\n",
              "\n",
              "<svg xmlns=\"http://www.w3.org/2000/svg\" height=\"24px\"viewBox=\"0 0 24 24\"\n",
              "     width=\"24px\">\n",
              "    <g>\n",
              "        <path d=\"M19 3H5c-1.1 0-2 .9-2 2v14c0 1.1.9 2 2 2h14c1.1 0 2-.9 2-2V5c0-1.1-.9-2-2-2zM9 17H7v-7h2v7zm4 0h-2V7h2v10zm4 0h-2v-4h2v4z\"/>\n",
              "    </g>\n",
              "</svg>\n",
              "  </button>\n",
              "\n",
              "<style>\n",
              "  .colab-df-quickchart {\n",
              "      --bg-color: #E8F0FE;\n",
              "      --fill-color: #1967D2;\n",
              "      --hover-bg-color: #E2EBFA;\n",
              "      --hover-fill-color: #174EA6;\n",
              "      --disabled-fill-color: #AAA;\n",
              "      --disabled-bg-color: #DDD;\n",
              "  }\n",
              "\n",
              "  [theme=dark] .colab-df-quickchart {\n",
              "      --bg-color: #3B4455;\n",
              "      --fill-color: #D2E3FC;\n",
              "      --hover-bg-color: #434B5C;\n",
              "      --hover-fill-color: #FFFFFF;\n",
              "      --disabled-bg-color: #3B4455;\n",
              "      --disabled-fill-color: #666;\n",
              "  }\n",
              "\n",
              "  .colab-df-quickchart {\n",
              "    background-color: var(--bg-color);\n",
              "    border: none;\n",
              "    border-radius: 50%;\n",
              "    cursor: pointer;\n",
              "    display: none;\n",
              "    fill: var(--fill-color);\n",
              "    height: 32px;\n",
              "    padding: 0;\n",
              "    width: 32px;\n",
              "  }\n",
              "\n",
              "  .colab-df-quickchart:hover {\n",
              "    background-color: var(--hover-bg-color);\n",
              "    box-shadow: 0 1px 2px rgba(60, 64, 67, 0.3), 0 1px 3px 1px rgba(60, 64, 67, 0.15);\n",
              "    fill: var(--button-hover-fill-color);\n",
              "  }\n",
              "\n",
              "  .colab-df-quickchart-complete:disabled,\n",
              "  .colab-df-quickchart-complete:disabled:hover {\n",
              "    background-color: var(--disabled-bg-color);\n",
              "    fill: var(--disabled-fill-color);\n",
              "    box-shadow: none;\n",
              "  }\n",
              "\n",
              "  .colab-df-spinner {\n",
              "    border: 2px solid var(--fill-color);\n",
              "    border-color: transparent;\n",
              "    border-bottom-color: var(--fill-color);\n",
              "    animation:\n",
              "      spin 1s steps(1) infinite;\n",
              "  }\n",
              "\n",
              "  @keyframes spin {\n",
              "    0% {\n",
              "      border-color: transparent;\n",
              "      border-bottom-color: var(--fill-color);\n",
              "      border-left-color: var(--fill-color);\n",
              "    }\n",
              "    20% {\n",
              "      border-color: transparent;\n",
              "      border-left-color: var(--fill-color);\n",
              "      border-top-color: var(--fill-color);\n",
              "    }\n",
              "    30% {\n",
              "      border-color: transparent;\n",
              "      border-left-color: var(--fill-color);\n",
              "      border-top-color: var(--fill-color);\n",
              "      border-right-color: var(--fill-color);\n",
              "    }\n",
              "    40% {\n",
              "      border-color: transparent;\n",
              "      border-right-color: var(--fill-color);\n",
              "      border-top-color: var(--fill-color);\n",
              "    }\n",
              "    60% {\n",
              "      border-color: transparent;\n",
              "      border-right-color: var(--fill-color);\n",
              "    }\n",
              "    80% {\n",
              "      border-color: transparent;\n",
              "      border-right-color: var(--fill-color);\n",
              "      border-bottom-color: var(--fill-color);\n",
              "    }\n",
              "    90% {\n",
              "      border-color: transparent;\n",
              "      border-bottom-color: var(--fill-color);\n",
              "    }\n",
              "  }\n",
              "</style>\n",
              "\n",
              "  <script>\n",
              "    async function quickchart(key) {\n",
              "      const quickchartButtonEl =\n",
              "        document.querySelector('#' + key + ' button');\n",
              "      quickchartButtonEl.disabled = true;  // To prevent multiple clicks.\n",
              "      quickchartButtonEl.classList.add('colab-df-spinner');\n",
              "      try {\n",
              "        const charts = await google.colab.kernel.invokeFunction(\n",
              "            'suggestCharts', [key], {});\n",
              "      } catch (error) {\n",
              "        console.error('Error during call to suggestCharts:', error);\n",
              "      }\n",
              "      quickchartButtonEl.classList.remove('colab-df-spinner');\n",
              "      quickchartButtonEl.classList.add('colab-df-quickchart-complete');\n",
              "    }\n",
              "    (() => {\n",
              "      let quickchartButtonEl =\n",
              "        document.querySelector('#df-c2033ddf-06db-42e8-999b-34d57d002211 button');\n",
              "      quickchartButtonEl.style.display =\n",
              "        google.colab.kernel.accessAllowed ? 'block' : 'none';\n",
              "    })();\n",
              "  </script>\n",
              "</div>\n",
              "\n",
              "    </div>\n",
              "  </div>\n"
            ],
            "application/vnd.google.colaboratory.intrinsic+json": {
              "type": "dataframe",
              "variable_name": "df",
              "summary": "{\n  \"name\": \"df\",\n  \"rows\": 2148,\n  \"fields\": [\n    {\n      \"column\": \"AREA\",\n      \"properties\": {\n        \"dtype\": \"number\",\n        \"std\": 0.17622432788205378,\n        \"min\": 10.302565640319441,\n        \"max\": 11.728109422598488,\n        \"num_unique_values\": 2101,\n        \"samples\": [\n          11.48854055503454,\n          11.5520981000447,\n          11.197035943454429\n        ],\n        \"semantic_type\": \"\",\n        \"description\": \"\"\n      }\n    },\n    {\n      \"column\": \"PERIMETER\",\n      \"properties\": {\n        \"dtype\": \"number\",\n        \"std\": 375.56550345439894,\n        \"min\": 858.363,\n        \"max\": 2755.0491,\n        \"num_unique_values\": 2144,\n        \"samples\": [\n          2138.689,\n          1129.559,\n          1180.433\n        ],\n        \"semantic_type\": \"\",\n        \"description\": \"\"\n      }\n    },\n    {\n      \"column\": \"MAJOR_AXIS\",\n      \"properties\": {\n        \"dtype\": \"number\",\n        \"std\": 32.445303508178796,\n        \"min\": 320.3445,\n        \"max\": 541.9661,\n        \"num_unique_values\": 2143,\n        \"samples\": [\n          458.5762,\n          336.944,\n          509.9047\n        ],\n        \"semantic_type\": \"\",\n        \"description\": \"\"\n      }\n    },\n    {\n      \"column\": \"MINOR_AXIS\",\n      \"properties\": {\n        \"dtype\": \"number\",\n        \"std\": 30.310695396739984,\n        \"min\": 133.5096,\n        \"max\": 383.0461,\n        \"num_unique_values\": 2147,\n        \"samples\": [\n          261.1837,\n          335.8377,\n          231.4328\n        ],\n        \"semantic_type\": \"\",\n        \"description\": \"\"\n      }\n    },\n    {\n      \"column\": \"ECCENTRICITY\",\n      \"properties\": {\n        \"dtype\": \"number\",\n        \"std\": 0.048758957264750165,\n        \"min\": 0.5049,\n        \"max\": 0.946,\n        \"num_unique_values\": 1172,\n        \"samples\": [\n          0.855,\n          0.8627,\n          0.8585\n        ],\n        \"semantic_type\": \"\",\n        \"description\": \"\"\n      }\n    },\n    {\n      \"column\": \"EQDIASQ\",\n      \"properties\": {\n        \"dtype\": \"number\",\n        \"std\": 26.90860002379475,\n        \"min\": 194.8146,\n        \"max\": 397.3561,\n        \"num_unique_values\": 2101,\n        \"samples\": [\n          352.4989,\n          363.8809,\n          304.6895\n        ],\n        \"semantic_type\": \"\",\n        \"description\": \"\"\n      }\n    },\n    {\n      \"column\": \"SOLIDITY\",\n      \"properties\": {\n        \"dtype\": \"number\",\n        \"std\": 0.05045218484942025,\n        \"min\": 0.588,\n        \"max\": 0.9951,\n        \"num_unique_values\": 1070,\n        \"samples\": [\n          0.89,\n          0.9139,\n          0.9895\n        ],\n        \"semantic_type\": \"\",\n        \"description\": \"\"\n      }\n    },\n    {\n      \"column\": \"CONVEX_AREA\",\n      \"properties\": {\n        \"dtype\": \"number\",\n        \"std\": 0.16325119019216544,\n        \"min\": 10.543655808305187,\n        \"max\": 11.794179421281418,\n        \"num_unique_values\": 2102,\n        \"samples\": [\n          11.381335044582631,\n          11.458289748804013,\n          11.245359696103272\n        ],\n        \"semantic_type\": \"\",\n        \"description\": \"\"\n      }\n    },\n    {\n      \"column\": \"EXTENT\",\n      \"properties\": {\n        \"dtype\": \"number\",\n        \"std\": 0.05253229423461956,\n        \"min\": 0.4272,\n        \"max\": 0.8204,\n        \"num_unique_values\": 1222,\n        \"samples\": [\n          0.7662,\n          0.6922,\n          0.7454\n        ],\n        \"semantic_type\": \"\",\n        \"description\": \"\"\n      }\n    },\n    {\n      \"column\": \"ASPECT_RATIO\",\n      \"properties\": {\n        \"dtype\": \"number\",\n        \"std\": 0.24010025581296487,\n        \"min\": 1.1585,\n        \"max\": 3.0858,\n        \"num_unique_values\": 1922,\n        \"samples\": [\n          1.6521,\n          1.9963,\n          2.0112\n        ],\n        \"semantic_type\": \"\",\n        \"description\": \"\"\n      }\n    },\n    {\n      \"column\": \"ROUNDNESS\",\n      \"properties\": {\n        \"dtype\": \"number\",\n        \"std\": 0.21275974294227137,\n        \"min\": 0.0628,\n        \"max\": 0.9336,\n        \"num_unique_values\": 1789,\n        \"samples\": [\n          0.1827,\n          0.2723,\n          0.3997\n        ],\n        \"semantic_type\": \"\",\n        \"description\": \"\"\n      }\n    },\n    {\n      \"column\": \"COMPACTNESS\",\n      \"properties\": {\n        \"dtype\": \"number\",\n        \"std\": 0.04454714349125852,\n        \"min\": 0.476,\n        \"max\": 0.8779,\n        \"num_unique_values\": 1187,\n        \"samples\": [\n          0.6927,\n          0.7713,\n          0.7134\n        ],\n        \"semantic_type\": \"\",\n        \"description\": \"\"\n      }\n    },\n    {\n      \"column\": \"SHAPEFACTOR_1\",\n      \"properties\": {\n        \"dtype\": \"number\",\n        \"std\": 0.000817253003312335,\n        \"min\": 0.004,\n        \"max\": 0.0131,\n        \"num_unique_values\": 58,\n        \"samples\": [\n          0.0062,\n          0.0054,\n          0.0096\n        ],\n        \"semantic_type\": \"\",\n        \"description\": \"\"\n      }\n    },\n    {\n      \"column\": \"SHAPEFACTOR_2\",\n      \"properties\": {\n        \"dtype\": \"number\",\n        \"std\": 0.00033976902710538436,\n        \"min\": 0.0024,\n        \"max\": 0.0053,\n        \"num_unique_values\": 28,\n        \"samples\": [\n          0.0029,\n          0.0045,\n          0.0032\n        ],\n        \"semantic_type\": \"\",\n        \"description\": \"\"\n      }\n    },\n    {\n      \"column\": \"SHAPEFACTOR_3\",\n      \"properties\": {\n        \"dtype\": \"number\",\n        \"std\": 0.06394198264088032,\n        \"min\": 0.2266,\n        \"max\": 0.7706,\n        \"num_unique_values\": 1379,\n        \"samples\": [\n          0.4441,\n          0.5227,\n          0.505\n        ],\n        \"semantic_type\": \"\",\n        \"description\": \"\"\n      }\n    },\n    {\n      \"column\": \"SHAPEFACTOR_4\",\n      \"properties\": {\n        \"dtype\": \"number\",\n        \"std\": 0.051840480731986036,\n        \"min\": 0.6204,\n        \"max\": 0.999,\n        \"num_unique_values\": 928,\n        \"samples\": [\n          0.9809,\n          0.9875,\n          0.9805\n        ],\n        \"semantic_type\": \"\",\n        \"description\": \"\"\n      }\n    },\n    {\n      \"column\": \"Class_Siit_Pistachio\",\n      \"properties\": {\n        \"dtype\": \"number\",\n        \"std\": 0,\n        \"min\": 0,\n        \"max\": 1,\n        \"num_unique_values\": 2,\n        \"samples\": [\n          1,\n          0\n        ],\n        \"semantic_type\": \"\",\n        \"description\": \"\"\n      }\n    }\n  ]\n}"
            }
          },
          "metadata": {},
          "execution_count": 305
        }
      ]
    },
    {
      "cell_type": "code",
      "source": [
        "df.info()"
      ],
      "metadata": {
        "colab": {
          "base_uri": "https://localhost:8080/"
        },
        "id": "32SMdlwHKO_k",
        "outputId": "b9bc9bd7-0931-4705-b496-23352ef9ca23"
      },
      "execution_count": null,
      "outputs": [
        {
          "output_type": "stream",
          "name": "stdout",
          "text": [
            "<class 'pandas.core.frame.DataFrame'>\n",
            "RangeIndex: 2148 entries, 0 to 2147\n",
            "Data columns (total 17 columns):\n",
            " #   Column                Non-Null Count  Dtype  \n",
            "---  ------                --------------  -----  \n",
            " 0   AREA                  2148 non-null   float64\n",
            " 1   PERIMETER             2148 non-null   float64\n",
            " 2   MAJOR_AXIS            2148 non-null   float64\n",
            " 3   MINOR_AXIS            2148 non-null   float64\n",
            " 4   ECCENTRICITY          2148 non-null   float64\n",
            " 5   EQDIASQ               2148 non-null   float64\n",
            " 6   SOLIDITY              2148 non-null   float64\n",
            " 7   CONVEX_AREA           2148 non-null   float64\n",
            " 8   EXTENT                2148 non-null   float64\n",
            " 9   ASPECT_RATIO          2148 non-null   float64\n",
            " 10  ROUNDNESS             2148 non-null   float64\n",
            " 11  COMPACTNESS           2148 non-null   float64\n",
            " 12  SHAPEFACTOR_1         2148 non-null   float64\n",
            " 13  SHAPEFACTOR_2         2148 non-null   float64\n",
            " 14  SHAPEFACTOR_3         2148 non-null   float64\n",
            " 15  SHAPEFACTOR_4         2148 non-null   float64\n",
            " 16  Class_Siit_Pistachio  2148 non-null   int64  \n",
            "dtypes: float64(16), int64(1)\n",
            "memory usage: 285.4 KB\n"
          ]
        }
      ]
    },
    {
      "cell_type": "code",
      "source": [
        "from sklearn.model_selection import train_test_split"
      ],
      "metadata": {
        "id": "TMS-RtmuKdis"
      },
      "execution_count": null,
      "outputs": []
    },
    {
      "cell_type": "code",
      "source": [
        "X=df.drop(columns=['Class_Siit_Pistachio'],axis=1)\n",
        "y=df['Class_Siit_Pistachio']"
      ],
      "metadata": {
        "id": "B7LnP-RkLwh7"
      },
      "execution_count": null,
      "outputs": []
    },
    {
      "cell_type": "code",
      "source": [
        "X_train,X_test,y_train,y_test=train_test_split(X,y,train_size=0.2,random_state=0)"
      ],
      "metadata": {
        "id": "BtXT_LcvL-vV"
      },
      "execution_count": null,
      "outputs": []
    },
    {
      "cell_type": "code",
      "source": [
        "from sklearn.preprocessing import MinMaxScaler\n",
        "from sklearn.preprocessing import StandardScaler"
      ],
      "metadata": {
        "id": "Gdl0YSxqMB9a"
      },
      "execution_count": null,
      "outputs": []
    },
    {
      "cell_type": "code",
      "source": [
        "M_scaler=MinMaxScaler()\n",
        "M_scaler.fit(X_train)\n",
        "X_test=M_scaler.transform(X_test)\n",
        "X_train=M_scaler.transform(X_train)"
      ],
      "metadata": {
        "id": "7bonneA4MuTQ"
      },
      "execution_count": null,
      "outputs": []
    },
    {
      "cell_type": "code",
      "source": [
        "S_scaler=StandardScaler()\n",
        "S_scaler.fit(X_train)\n",
        "X_test=S_scaler.transform(X_test)\n",
        "X_train=S_scaler.transform(X_train)"
      ],
      "metadata": {
        "id": "1ilTCBaUMuPu"
      },
      "execution_count": null,
      "outputs": []
    },
    {
      "cell_type": "code",
      "source": [
        "from sklearn.linear_model import LinearRegression\n",
        "\n",
        "from sklearn.metrics import mean_squared_error,r2_score\n",
        "from sklearn.model_selection import train_test_split\n",
        "from sklearn.preprocessing import MinMaxScaler\n",
        "from sklearn.naive_bayes import GaussianNB\n",
        "from sklearn.cluster import KMeans\n",
        "from sklearn.ensemble import RandomForestRegressor\n",
        "from sklearn.ensemble import RandomForestClassifier\n",
        "from sklearn.tree import DecisionTreeRegressor\n",
        "from sklearn.tree import DecisionTreeClassifier\n",
        "from sklearn.preprocessing import PolynomialFeatures\n",
        "from sklearn.preprocessing import StandardScaler\n",
        "from sklearn.model_selection import cross_val_score\n",
        "from sklearn.linear_model import LogisticRegression\n",
        "from sklearn.metrics import accuracy_score"
      ],
      "metadata": {
        "id": "_hc9iQMFMuMS"
      },
      "execution_count": null,
      "outputs": []
    },
    {
      "cell_type": "code",
      "source": [
        "models=[LogisticRegression(),RandomForestClassifier(n_estimators=100,max_depth=None,random_state=0),DecisionTreeClassifier(max_depth=None,random_state=0),GaussianNB(),KMeans(n_clusters=2,n_init='auto')]"
      ],
      "metadata": {
        "id": "FAXhcck1MuIQ"
      },
      "execution_count": null,
      "outputs": []
    },
    {
      "cell_type": "code",
      "source": [
        "def my_models():\n",
        "  for model in models:\n",
        "    model.fit(X_train,y_train)\n",
        "    y_pred=model.predict(X_test)\n",
        "    acc=accuracy_score(y_test,y_pred)\n",
        "    print(model)\n",
        "    print(f\"Accuracy = {acc:.2f}%\")\n",
        "    print('___________________________________')"
      ],
      "metadata": {
        "id": "64v3kdHROgy6"
      },
      "execution_count": null,
      "outputs": []
    },
    {
      "cell_type": "code",
      "source": [
        "my_models()"
      ],
      "metadata": {
        "colab": {
          "base_uri": "https://localhost:8080/"
        },
        "id": "JpLBkH6dPkEu",
        "outputId": "757539c8-0cc7-457a-f6e2-d16583b62554"
      },
      "execution_count": null,
      "outputs": [
        {
          "output_type": "stream",
          "name": "stdout",
          "text": [
            "LogisticRegression()\n",
            "Accuracy = 0.88%\n",
            "___________________________________\n",
            "RandomForestClassifier(random_state=0)\n",
            "Accuracy = 0.86%\n",
            "___________________________________\n",
            "DecisionTreeClassifier(random_state=0)\n",
            "Accuracy = 0.82%\n",
            "___________________________________\n",
            "GaussianNB()\n",
            "Accuracy = 0.87%\n",
            "___________________________________\n",
            "KMeans(n_clusters=2)\n",
            "Accuracy = 0.85%\n",
            "___________________________________\n"
          ]
        }
      ]
    },
    {
      "cell_type": "code",
      "source": [
        "def compare_model_cross_validation():\n",
        "    for model in models:\n",
        "        cv_score = cross_val_score(model,X,y, cv =5)\n",
        "        mean_acuracy = ((sum(cv_score)/len(cv_score)) * 100).round(2)\n",
        "\n",
        "        print(f\"Cross Validation Accuracy for {model} = {cv_score}\")\n",
        "        print('Accuracy % of the ', model, mean_acuracy)\n",
        "        print('----------------------------------------------')"
      ],
      "metadata": {
        "id": "Be7kR-dNPl6B"
      },
      "execution_count": null,
      "outputs": []
    },
    {
      "cell_type": "code",
      "source": [
        "compare_model_cross_validation()"
      ],
      "metadata": {
        "colab": {
          "base_uri": "https://localhost:8080/"
        },
        "id": "O-ChdfdySXFo",
        "outputId": "8b5c3f32-1c4f-4966-fd7c-6daae6b8308e"
      },
      "execution_count": null,
      "outputs": [
        {
          "output_type": "stream",
          "name": "stdout",
          "text": [
            "Cross Validation Accuracy for LogisticRegression() = [0.86046512 0.9        0.86511628 0.84149184 0.86946387]\n",
            "Accuracy % of the  LogisticRegression() 86.73\n",
            "----------------------------------------------\n"
          ]
        },
        {
          "output_type": "stream",
          "name": "stderr",
          "text": [
            "/usr/local/lib/python3.11/dist-packages/sklearn/linear_model/_logistic.py:465: ConvergenceWarning: lbfgs failed to converge (status=1):\n",
            "STOP: TOTAL NO. of ITERATIONS REACHED LIMIT.\n",
            "\n",
            "Increase the number of iterations (max_iter) or scale the data as shown in:\n",
            "    https://scikit-learn.org/stable/modules/preprocessing.html\n",
            "Please also refer to the documentation for alternative solver options:\n",
            "    https://scikit-learn.org/stable/modules/linear_model.html#logistic-regression\n",
            "  n_iter_i = _check_optimize_result(\n",
            "/usr/local/lib/python3.11/dist-packages/sklearn/linear_model/_logistic.py:465: ConvergenceWarning: lbfgs failed to converge (status=1):\n",
            "STOP: TOTAL NO. of ITERATIONS REACHED LIMIT.\n",
            "\n",
            "Increase the number of iterations (max_iter) or scale the data as shown in:\n",
            "    https://scikit-learn.org/stable/modules/preprocessing.html\n",
            "Please also refer to the documentation for alternative solver options:\n",
            "    https://scikit-learn.org/stable/modules/linear_model.html#logistic-regression\n",
            "  n_iter_i = _check_optimize_result(\n",
            "/usr/local/lib/python3.11/dist-packages/sklearn/linear_model/_logistic.py:465: ConvergenceWarning: lbfgs failed to converge (status=1):\n",
            "STOP: TOTAL NO. of ITERATIONS REACHED LIMIT.\n",
            "\n",
            "Increase the number of iterations (max_iter) or scale the data as shown in:\n",
            "    https://scikit-learn.org/stable/modules/preprocessing.html\n",
            "Please also refer to the documentation for alternative solver options:\n",
            "    https://scikit-learn.org/stable/modules/linear_model.html#logistic-regression\n",
            "  n_iter_i = _check_optimize_result(\n",
            "/usr/local/lib/python3.11/dist-packages/sklearn/linear_model/_logistic.py:465: ConvergenceWarning: lbfgs failed to converge (status=1):\n",
            "STOP: TOTAL NO. of ITERATIONS REACHED LIMIT.\n",
            "\n",
            "Increase the number of iterations (max_iter) or scale the data as shown in:\n",
            "    https://scikit-learn.org/stable/modules/preprocessing.html\n",
            "Please also refer to the documentation for alternative solver options:\n",
            "    https://scikit-learn.org/stable/modules/linear_model.html#logistic-regression\n",
            "  n_iter_i = _check_optimize_result(\n",
            "/usr/local/lib/python3.11/dist-packages/sklearn/linear_model/_logistic.py:465: ConvergenceWarning: lbfgs failed to converge (status=1):\n",
            "STOP: TOTAL NO. of ITERATIONS REACHED LIMIT.\n",
            "\n",
            "Increase the number of iterations (max_iter) or scale the data as shown in:\n",
            "    https://scikit-learn.org/stable/modules/preprocessing.html\n",
            "Please also refer to the documentation for alternative solver options:\n",
            "    https://scikit-learn.org/stable/modules/linear_model.html#logistic-regression\n",
            "  n_iter_i = _check_optimize_result(\n"
          ]
        },
        {
          "output_type": "stream",
          "name": "stdout",
          "text": [
            "Cross Validation Accuracy for RandomForestClassifier(random_state=0) = [0.8744186  0.86744186 0.85813953 0.84848485 0.86480186]\n",
            "Accuracy % of the  RandomForestClassifier(random_state=0) 86.27\n",
            "----------------------------------------------\n",
            "Cross Validation Accuracy for DecisionTreeClassifier(random_state=0) = [0.83488372 0.80697674 0.82325581 0.7995338  0.84149184]\n",
            "Accuracy % of the  DecisionTreeClassifier(random_state=0) 82.12\n",
            "----------------------------------------------\n",
            "Cross Validation Accuracy for GaussianNB() = [0.8627907  0.87674419 0.85813953 0.85081585 0.85314685]\n",
            "Accuracy % of the  GaussianNB() 86.03\n",
            "----------------------------------------------\n",
            "Cross Validation Accuracy for KMeans(n_clusters=2) = [-13463939.70121623 -13154637.72386256 -14764116.14262695\n",
            " -19294012.92343855 -12591781.20481391]\n",
            "Accuracy % of the  KMeans(n_clusters=2) -1465369753.92\n",
            "----------------------------------------------\n"
          ]
        }
      ]
    },
    {
      "cell_type": "code",
      "source": [],
      "metadata": {
        "id": "DY_0-QlWSzcD"
      },
      "execution_count": null,
      "outputs": []
    }
  ]
}